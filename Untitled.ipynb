{
 "cells": [
  {
   "cell_type": "code",
   "execution_count": 1,
   "id": "c119983b",
   "metadata": {},
   "outputs": [],
   "source": [
    "import pandas as pd\n",
    "\n",
    "# Load the CSV file\n",
    "orders_df = pd.read_csv('Orders.csv', skip_blank_lines=True)\n",
    "details_df = pd.read_csv('Details.csv', skip_blank_lines=True)\n",
    "\n",
    "# Save the cleaned CSV files\n",
    "orders_df.to_csv('Cleaned_Orders.csv', index=False)\n",
    "details_df.to_csv('Cleaned_Details.csv', index=False)"
   ]
  },
  {
   "cell_type": "code",
   "execution_count": 2,
   "id": "37a4dbcf",
   "metadata": {},
   "outputs": [],
   "source": [
    "import pandas as pd\n",
    "\n",
    "# Load the cleaned CSV file\n",
    "orders_df = pd.read_csv('Cleaned_Orders.csv')\n",
    "\n",
    "# Convert date columns to datetime format with a standard format\n",
    "orders_df['Order Date'] = pd.to_datetime(orders_df['Order Date'], errors='coerce', dayfirst=True)\n",
    "\n",
    "# Save the cleaned and standardized CSV file\n",
    "orders_df.to_csv('Standardized_Orders.csv', index=False)"
   ]
  },
  {
   "cell_type": "code",
   "execution_count": null,
   "id": "d52d3a89",
   "metadata": {},
   "outputs": [],
   "source": []
  }
 ],
 "metadata": {
  "kernelspec": {
   "display_name": "Python 3 (ipykernel)",
   "language": "python",
   "name": "python3"
  },
  "language_info": {
   "codemirror_mode": {
    "name": "ipython",
    "version": 3
   },
   "file_extension": ".py",
   "mimetype": "text/x-python",
   "name": "python",
   "nbconvert_exporter": "python",
   "pygments_lexer": "ipython3",
   "version": "3.10.9"
  }
 },
 "nbformat": 4,
 "nbformat_minor": 5
}
